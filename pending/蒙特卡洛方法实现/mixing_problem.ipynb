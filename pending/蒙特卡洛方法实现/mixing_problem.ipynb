{
 "cells": [
  {
   "cell_type": "markdown",
   "metadata": {},
   "source": [
    "## Gibbs采样在简单能量模型中的问题演示\n",
    "\n",
    "以下将使用Python实现一个简单的基于能量的模型，包含两个二元变量 $a$ 和 $b$，取值为 $-1$ 或 $+1$。能量函数定义为：\n",
    "\n",
    "$$\n",
    "E(a, b) = -w \\cdot a \\cdot b\n",
    "$$\n",
    "\n",
    "其中，$w$ 是一个大的正数。这个模型表达了 $a$ 和 $b$ 具有相同符号的强烈偏好。\n",
    "\n",
    "### Gibbs 采样过程\n",
    "\n",
    "以下将使用 Gibbs 采样在该模型上生成样本，并展示当 $w$ 很大时，Gibbs 采样如何难以翻转变量的符号，从而导致混合不良。\n"
   ]
  },
  {
   "cell_type": "markdown",
   "metadata": {},
   "source": [
    "## 模型解释\n",
    "\n",
    "### 变量\n",
    "- $a, b \\in \\{-1, +1\\}$\n",
    "\n",
    "### 能量函数\n",
    "- $E(a, b) = -w \\cdot a \\cdot b$\n",
    "- 当 $a$ 和 $b$ 符号相同时，能量较低，概率较高。\n",
    "- 当 $a$ 和 $b$ 符号相反时，能量较高，概率较低。\n",
    "\n",
    "### 目标\n",
    "- 使用 Gibbs 采样从模型的联合分布 $p(a, b)$ 中采样，观察混合情况。\n"
   ]
  },
  {
   "cell_type": "markdown",
   "metadata": {},
   "source": [
    "## 代码解释\n",
    "\n",
    "### 函数定义\n",
    "\n",
    "- **能量函数 `energy(a, b, w)`**：  \n",
    "  计算给定 $a$ 和 $b$ 时的能量 $E(a, b) = -w \\cdot a \\cdot b$。\n",
    "\n",
    "- **条件概率 `p_a_given_b(b, w)`**：  \n",
    "  计算在给定 $b$ 的情况下 $a = +1$ 的概率：\n",
    "  $$\n",
    "  P(a=+1 \\mid b) = \\frac{1}{1 + \\exp(-2wb)}\n",
    "  $$\n",
    "\n",
    "- **条件概率 `p_b_given_a(a, w)`**：  \n",
    "  计算在给定 $a$ 的情况下 $b = +1$ 的概率：\n",
    "  $$\n",
    "  P(b=+1 \\mid a) = \\frac{1}{1 + \\exp(-2wa)}\n",
    "  $$"
   ]
  },
  {
   "cell_type": "code",
   "execution_count": 1,
   "metadata": {},
   "outputs": [],
   "source": [
    "import numpy as np\n",
    "import matplotlib.pyplot as plt\n",
    "\n",
    "# 定义能量函数\n",
    "def energy(a, b, w):\n",
    "    return -w * a * b\n",
    "\n",
    "# 定义条件概率（使用Gibbs采样）\n",
    "def p_a_given_b(b, w):\n",
    "    # 计算 P(a = 1 | b)\n",
    "    prob = 1 / (1 + np.exp(-2 * w * b))\n",
    "    return prob\n",
    "\n",
    "def p_b_given_a(a, w):\n",
    "    # 计算 P(b = 1 | a)\n",
    "    prob = 1 / (1 + np.exp(-2 * w * a))\n",
    "    return prob"
   ]
  },
  {
   "cell_type": "markdown",
   "metadata": {},
   "source": [
    "### Gibbs 采样过程 `gibbs_sampling(w, num_samples, initial_state)`\n",
    "\n",
    "1. **初始化**：设置初始状态 $(a, b)$。\n",
    "2. **循环迭代**：\n",
    "   - 给定 $b$，采样 $a$：\n",
    "     - 计算 $P(a=+1 \\mid b)$。\n",
    "     - 根据概率决定 $a$ 的取值。\n",
    "   - 给定 $a$，采样 $b$：\n",
    "     - 计算 $P(b=+1 \\mid a)$。\n",
    "     - 根据概率决定 $b$ 的取值。\n",
    "   - **保存样本**：将新的 $(a, b)$ 添加到样本列表中。\n",
    "3. **返回**：所有采样得到的 $(a, b)$ 对。"
   ]
  },
  {
   "cell_type": "code",
   "execution_count": 2,
   "metadata": {},
   "outputs": [],
   "source": [
    "# Gibbs采样过程\n",
    "def gibbs_sampling(w, num_samples, initial_state):\n",
    "    samples = []\n",
    "    a, b = initial_state\n",
    "\n",
    "    for _ in range(num_samples):\n",
    "        # 给定 b，采样 a\n",
    "        p_a = p_a_given_b(b, w)\n",
    "        a = 1 if np.random.rand() < p_a else -1\n",
    "\n",
    "        # 给定 a，采样 b\n",
    "        p_b = p_b_given_a(a, w)\n",
    "        b = 1 if np.random.rand() < p_b else -1\n",
    "\n",
    "        samples.append((a, b))\n",
    "\n",
    "    return samples"
   ]
  },
  {
   "cell_type": "markdown",
   "metadata": {},
   "source": [
    "### 参数设置\n",
    "\n",
    "- **权重 $w$**：  \n",
    "  选择较大的值（例如 5、10、20）可以增强 $a$ 和 $b$ 之间的相关性，观察 Gibbs 采样的混合问题。\n",
    "\n",
    "- **样本数量 `num_samples`**：  \n",
    "  设置为 1000 次迭代。\n",
    "\n",
    "- **初始状态 `initial_state`**：  \n",
    "  任意选择一个初始 $(a, b)$ 值。"
   ]
  },
  {
   "cell_type": "code",
   "execution_count": 3,
   "metadata": {},
   "outputs": [],
   "source": [
    "# 参数设置\n",
    "w = 5  # 可以尝试更大的值，例如10、20，观察效果\n",
    "num_samples = 1000\n",
    "initial_state = (1, -1)  # 初始状态，随意设置"
   ]
  },
  {
   "cell_type": "markdown",
   "metadata": {},
   "source": [
    "### 运行采样并绘制结果\n",
    "\n",
    "- **提取 $a$ 和 $b$ 的序列**：  \n",
    "  从采样结果中分别获取 $a$ 和 $b$ 的取值列表。\n",
    "\n",
    "- **绘制 $a$ 和 $b$ 的取值变化**：  \n",
    "  展示在迭代过程中，$a$ 和 $b$ 如何变化。\n",
    "  通过图形观察变量是否发生翻转，以及翻转的频率。\n",
    "\n",
    "- **统计取值次数**：  \n",
    "  使用 `Counter` 统计 $a$ 和 $b$ 取 $+1$ 和 $-1$ 的次数。"
   ]
  },
  {
   "cell_type": "code",
   "execution_count": 4,
   "metadata": {},
   "outputs": [],
   "source": [
    "# 运行Gibbs采样\n",
    "samples = gibbs_sampling(w, num_samples, initial_state)\n",
    "\n",
    "# 提取 a 和 b 的序列\n",
    "a_samples = [sample[0] for sample in samples]\n",
    "b_samples = [sample[1] for sample in samples]\n"
   ]
  },
  {
   "cell_type": "markdown",
   "metadata": {},
   "source": [
    "### 结果分析\n",
    "\n",
    "- **变量取值变化图**：  \n",
    "  当 $w$ 较大时，图中可以看到 $a$ 和 $b$ 大部分时间保持在同一个值（例如 $+1$ 或 $-1$），很少发生翻转。这表明  \n",
    "   Gibbs 采样在高相关性的情况下，变量的状态难以改变，导致混合不良。\n",
    "\n",
    "- **取值次数统计**：  \n",
    "  计数结果可能显示 $a$ 和 $b$ 在某个值上停留的次数远多于另一个值。例如，当 $w=5$ 时，可能出现 $a$ 和 $b$   \n",
    "  为 $+1$ 的次数远多于 $-1$ 的次数。"
   ]
  },
  {
   "cell_type": "code",
   "execution_count": 7,
   "metadata": {},
   "outputs": [
    {
     "data": {
      "image/png": "[encoded data removed]",
      "text/plain": [
       "<Figure size 800x400 with 2 Axes>"
      ]
     },
     "metadata": {},
     "output_type": "display_data"
    }
   ],
   "source": [
    "# 绘制结果\n",
    "plt.figure(figsize=(8, 4))\n",
    "\n",
    "# 子图1：a 的取值变化\n",
    "plt.subplot(1, 2, 1)\n",
    "plt.plot(a_samples, '-o', markersize=3)\n",
    "plt.title('Sequence of a')\n",
    "plt.xlabel('Iteration')\n",
    "plt.ylabel('Value of a')\n",
    "plt.ylim([-1.5, 1.5])\n",
    "plt.grid(True)\n",
    "\n",
    "# 子图2：b 的取值变化\n",
    "plt.subplot(1, 2, 2)\n",
    "plt.plot(b_samples, '-o', markersize=3, color='orange')\n",
    "plt.title('Sequence of b')\n",
    "plt.xlabel('Iteration')\n",
    "plt.ylabel('Value of b')\n",
    "plt.ylim([-1.5, 1.5])\n",
    "plt.grid(True)\n",
    "\n",
    "plt.tight_layout()\n",
    "plt.show()"
   ]
  },
  {
   "cell_type": "code",
   "execution_count": 8,
   "metadata": {},
   "outputs": [
    {
     "name": "stdout",
     "output_type": "stream",
     "text": [
      "Counts of a: Counter({-1: 1000})\n",
      "Counts of b: Counter({-1: 1000})\n"
     ]
    }
   ],
   "source": [
    "# 统计 a 和 b 的取值次数\n",
    "from collections import Counter\n",
    "a_counts = Counter(a_samples)\n",
    "b_counts = Counter(b_samples)\n",
    "\n",
    "print(f\"Counts of a: {a_counts}\")\n",
    "print(f\"Counts of b: {b_counts}\")"
   ]
  },
  {
   "cell_type": "markdown",
   "metadata": {},
   "source": [
    "### 不同 $w$ 值的影响\n",
    "\n",
    "- **$w$ 较小（例如 $w=0.5$）**：  \n",
    "  $a$ 和 $b$ 更频繁地翻转，Gibbs 采样混合较好。\n",
    "\n",
    "- **$w$ 较大（例如 $w=10$）**：  \n",
    "  $a$ 和 $b$ 很少翻转，长时间停留在同一状态，混合效果差。\n"
   ]
  },
  {
   "cell_type": "markdown",
   "metadata": {},
   "source": [
    "### 结论\n",
    "\n",
    "通过上述简单的例子，我们展示了 Gibbs 采样在处理高度相关的变量时可能遇到的混合问题：\n",
    "\n",
    "- 当变量之间具有强烈的相互依赖关系（由大的 $w$ 引起）时，Gibbs 采样可能会在某个模式上停留过久，难以有效地  \n",
    "探索状态空间。这与混合不良问题一致，即马尔可夫链在高概率模式之间的转换可能非常缓慢。\n",
    "\n",
    "### 解决思路\n",
    "\n",
    "1. **降低相关性**：减小 $w$ 的值，使变量之间的依赖性减弱，提高混合效率。\n",
    "2. **使用其他采样方法**：如 Metropolis-Hastings 算法，可能在某些情况下比 Gibbs 采样表现更好。\n",
    "3. **块采样**：同时更新相关的变量（即同时更新 $a$ 和 $b$），但在高维情况下可能不可行。\n"
   ]
  }
 ],
 "metadata": {
  "kernelspec": {
   "display_name": "patch",
   "language": "python",
   "name": "python3"
  },
  "language_info": {
   "codemirror_mode": {
    "name": "ipython",
    "version": 3
   },
   "file_extension": ".py",
   "mimetype": "text/x-python",
   "name": "python",
   "nbconvert_exporter": "python",
   "pygments_lexer": "ipython3",
   "version": "3.9.19"
  }
 },
 "nbformat": 4,
 "nbformat_minor": 2
}
