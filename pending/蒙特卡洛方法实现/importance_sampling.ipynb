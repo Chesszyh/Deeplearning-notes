{
 "cells": [
  {
   "cell_type": "markdown",
   "metadata": {},
   "source": [
    "## 重要性采样和有偏重要性采样的Python实现  \n",
    "本文将使用Python来实现重要性采样（Importance Sampling）和有偏重要性采样（Biased Importance Sampling）  \n",
    "我们将实现这些技术来估计目标分布下函数的期望值，并将结果与真实值进行比较"
   ]
  },
  {
   "cell_type": "markdown",
   "metadata": {},
   "source": [
    "### 简介  \n",
    "重要性采样是一种在蒙特卡洛方法中使用的技术，通过从不同的分布 𝑞(𝑥) 采样来估计目标分布 𝑝(𝑥) 下的函数期望值。  \n",
    "核心思想是通过适当的权重调整 𝑝(𝑥) 和 𝑞(𝑥) 之间的差异。重要性采样估计器定义为：  \n",
    "\n",
    "$$\n",
    "\\hat{s}_q = \\frac{1}{n} \\sum_{i=1}^{n} \\frac{p(x^{(i)}) f(x^{(i)})}{q(x^{(i)})}, x^{(i)} \\sim q\n",
    "$$\n",
    "\n",
    "有偏重要性采样修改了这个估计器，以避免需要归一化的分布，从而得到一个有偏但随着样本量 𝑛 趋于无穷大时渐进无偏的估计器：\n",
    "\n",
    "$$\n",
    "\\hat{s}_{BIS} = \\frac{\\sum_{i=1}^{n} \\frac{p(x^{(i)})}{q(x^{(i)})} f(x^{(i)})}{\\sum_{i=1}^{n} \\frac{p(x^{(i)})}{q(x^{(i)})}}\n",
    "$$\n",
    "\n",
    "目录如下：\n",
    "\n",
    "1. 实现上述两个估计器。\n",
    "2. 使用不同的采样分布 𝑞(𝑥) 来观察对方差的影响。\n",
    "3. 将估计器与真实期望值进行比较。\n"
   ]
  },
  {
   "cell_type": "markdown",
   "metadata": {},
   "source": [
    "### 实现步骤\n",
    "\n",
    "1. **定义目标分布** $𝑝(𝑥)$、采样分布 $𝑞(𝑥)$ 和函数 $𝑓(𝑥)$：  \n",
    "   - 目标分布 $𝑝(𝑥)$：标准正态分布 $𝑁(0,1)$。  \n",
    "   - 采样分布 $𝑞(𝑥)$：具有不同方差的正态分布。  \n",
    "   - 函数 $𝑓(𝑥)$：我们将使用 $𝑓(𝑥) = 𝑥^2$，其在 $𝑁(0,1)$ 下的期望值已知（$𝐸[𝑋^2] = 1$）。\n",
    "\n",
    "2. **从 $𝑞(𝑥)$ 生成样本**。\n",
    "\n",
    "3. **计算权重**：  \n",
    "   对于每个样本 $𝑥𝑖$，计算权重：\n",
    "   $$\n",
    "   w_i = \\frac{p(x_i)}{q(x_i)}\n",
    "   $$\n",
    "\n",
    "4. **计算重要性采样估计器和有偏重要性采样估计器**：  \n",
    "   - 重要性采样估计器：\n",
    "     $$\n",
    "     \\hat{s}_q = \\frac{1}{n} \\sum_{i=1}^{n} \\frac{p(x^{(i)}) f(x^{(i)})}{q(x^{(i)})}\n",
    "     $$\n",
    "   - 有偏重要性采样估计器：\n",
    "     $$\n",
    "     \\hat{s}_{BIS} = \\frac{\\sum_{i=1}^{n} \\frac{p(x^{(i)})}{q(x^{(i)})} f(x^{(i)})}{\\sum_{i=1}^{n} \\frac{p(x^{(i)})}{q(x^{(i)})}}\n",
    "     $$\n",
    "\n",
    "5. **计算方差和标准误差**。\n",
    "\n",
    "6. **将估计器与真实值进行比较并分析方差**。\n"
   ]
  },
  {
   "cell_type": "markdown",
   "metadata": {},
   "source": [
    "### 代码实现  \n",
    "首先，导入必要的库并定义分布和函数 $f(x)$"
   ]
  },
  {
   "cell_type": "code",
   "execution_count": 1,
   "metadata": {},
   "outputs": [],
   "source": [
    "import numpy as np\n",
    "import matplotlib.pyplot as plt\n",
    "\n",
    "# 目标分布 p(x)：标准正态分布 N(0, 1)\n",
    "def p(x):\n",
    "    return (1 / np.sqrt(2 * np.pi)) * np.exp(-x**2 / 2)\n",
    "\n",
    "# 采样分布 q(x)：正态分布 N(0, σ^2)\n",
    "def q(x, sigma):\n",
    "    return (1 / (np.sqrt(2 * np.pi) * sigma)) * np.exp(-x**2 / (2 * sigma**2))\n",
    "\n",
    "# 函数 f(x)\n",
    "def f(x):\n",
    "    return x**2"
   ]
  },
  {
   "cell_type": "markdown",
   "metadata": {},
   "source": [
    "### 计算权重\n",
    "\n",
    "我们为每个样本计算权重，使用比率：\n",
    "\n",
    "$$\n",
    "w_i = \\frac{p(x_i)}{q(x_i)}\n",
    "$$\n"
   ]
  },
  {
   "cell_type": "code",
   "execution_count": 2,
   "metadata": {},
   "outputs": [],
   "source": [
    "def compute_weights(x_samples, sigma):\n",
    "    p_vals = p(x_samples)\n",
    "    q_vals = q(x_samples, sigma)\n",
    "    weights = p_vals / q_vals\n",
    "    return weights"
   ]
  },
  {
   "cell_type": "markdown",
   "metadata": {},
   "source": [
    "### 估计器\n",
    "重要性采样估计器"
   ]
  },
  {
   "cell_type": "code",
   "execution_count": 3,
   "metadata": {},
   "outputs": [],
   "source": [
    "def importance_sampling_estimator(x_samples, weights):\n",
    "    f_vals = f(x_samples)\n",
    "    estimator = np.mean(weights * f_vals)\n",
    "    return estimator"
   ]
  },
  {
   "cell_type": "markdown",
   "metadata": {},
   "source": [
    "有偏重要性采样估计器"
   ]
  },
  {
   "cell_type": "code",
   "execution_count": 4,
   "metadata": {},
   "outputs": [],
   "source": [
    "def biased_importance_sampling_estimator(x_samples, weights):\n",
    "    f_vals = f(x_samples)\n",
    "    numerator = np.sum(weights * f_vals)\n",
    "    denominator = np.sum(weights)\n",
    "    estimator = numerator / denominator\n",
    "    return estimator"
   ]
  },
  {
   "cell_type": "markdown",
   "metadata": {},
   "source": [
    "### 方差计算\n",
    "计算重要性采样估计器的方差"
   ]
  },
  {
   "cell_type": "code",
   "execution_count": 5,
   "metadata": {},
   "outputs": [],
   "source": [
    "def compute_variance(weights, f_vals, n):\n",
    "    wf = weights * f_vals\n",
    "    variance = np.var(wf, ddof=1) / n\n",
    "    return variance"
   ]
  },
  {
   "cell_type": "markdown",
   "metadata": {},
   "source": [
    "### 主程序执行\n",
    "针对不同的采样分布执行估计器并分析结果"
   ]
  },
  {
   "cell_type": "code",
   "execution_count": 6,
   "metadata": {},
   "outputs": [
    {
     "name": "stdout",
     "output_type": "stream",
     "text": [
      "\n",
      "采样分布 q(x) 的方差 σ^2 = 0.25\n",
      "真实值 s = 1.000000\n",
      "重要性采样估计器 = 0.694828\n",
      "有偏重要性采样估计器 = 0.735654\n",
      "重要性采样估计器的方差 = 0.003652\n",
      "重要性采样估计器的标准误差 = 0.060432\n",
      "\n",
      "采样分布 q(x) 的方差 σ^2 = 1.0\n",
      "真实值 s = 1.000000\n",
      "重要性采样估计器 = 1.000577\n",
      "有偏重要性采样估计器 = 1.000577\n",
      "重要性采样估计器的方差 = 0.000191\n",
      "重要性采样估计器的标准误差 = 0.013825\n",
      "\n",
      "采样分布 q(x) 的方差 σ^2 = 4.0\n",
      "真实值 s = 1.000000\n",
      "重要性采样估计器 = 1.000607\n",
      "有偏重要性采样估计器 = 1.011281\n",
      "重要性采样估计器的方差 = 0.000048\n",
      "重要性采样估计器的标准误差 = 0.006915\n",
      "\n",
      "采样分布 q(x) 的方差 σ^2 = 25.0\n",
      "真实值 s = 1.000000\n",
      "重要性采样估计器 = 1.010328\n",
      "有偏重要性采样估计器 = 1.002995\n",
      "重要性采样估计器的方差 = 0.000181\n",
      "重要性采样估计器的标准误差 = 0.013447\n"
     ]
    }
   ],
   "source": [
    "# 真实的期望值\n",
    "true_s = 1.0\n",
    "\n",
    "# 样本量\n",
    "n = 10000\n",
    "\n",
    "# 不同的 q(x) 方差\n",
    "sigma_values = [0.5, 1.0, 2.0, 5.0]\n",
    "\n",
    "# 存储结果以便分析\n",
    "results = []\n",
    "\n",
    "for sigma in sigma_values:\n",
    "    print(f\"\\n采样分布 q(x) 的方差 σ^2 = {sigma**2}\")\n",
    "    \n",
    "    # 从 q(x) 采样\n",
    "    x_samples = np.random.normal(loc=0, scale=sigma, size=n)\n",
    "    \n",
    "    # 计算权重\n",
    "    weights = compute_weights(x_samples, sigma)\n",
    "    \n",
    "    # 计算估计器\n",
    "    s_hat_q = importance_sampling_estimator(x_samples, weights)\n",
    "    s_hat_bis = biased_importance_sampling_estimator(x_samples, weights)\n",
    "    \n",
    "    # 计算方差和标准误差\n",
    "    f_vals = f(x_samples)\n",
    "    variance_is = compute_variance(weights, f_vals, n)\n",
    "    std_error_is = np.sqrt(variance_is)\n",
    "    \n",
    "    # 存储结果\n",
    "    results.append({\n",
    "        'sigma_squared': sigma**2,\n",
    "        'importance_sampling_estimator': s_hat_q,\n",
    "        'biased_importance_sampling_estimator': s_hat_bis,\n",
    "        'variance': variance_is,\n",
    "        'std_error': std_error_is\n",
    "    })\n",
    "    \n",
    "    # 输出结果\n",
    "    print(f\"真实值 s = {true_s:.6f}\")\n",
    "    print(f\"重要性采样估计器 = {s_hat_q:.6f}\")\n",
    "    print(f\"有偏重要性采样估计器 = {s_hat_bis:.6f}\")\n",
    "    print(f\"重要性采样估计器的方差 = {variance_is:.6f}\")\n",
    "    print(f\"重要性采样估计器的标准误差 = {std_error_is:.6f}\")"
   ]
  },
  {
   "cell_type": "markdown",
   "metadata": {},
   "source": [
    "## 结果与分析  \n",
    "将结果制成表格以可视化"
   ]
  },
  {
   "cell_type": "code",
   "execution_count": 12,
   "metadata": {},
   "outputs": [
    {
     "data": {
      "text/html": [
       "<div>\n",
       "<style scoped>\n",
       "    .dataframe tbody tr th:only-of-type {\n",
       "        vertical-align: middle;\n",
       "    }\n",
       "\n",
       "    .dataframe tbody tr th {\n",
       "        vertical-align: top;\n",
       "    }\n",
       "\n",
       "    .dataframe thead th {\n",
       "        text-align: right;\n",
       "    }\n",
       "</style>\n",
       "<table border=\"1\" class=\"dataframe\">\n",
       "  <thead>\n",
       "    <tr style=\"text-align: right;\">\n",
       "      <th></th>\n",
       "      <th>sigma_squared</th>\n",
       "      <th>importance_sampling_estimator</th>\n",
       "      <th>biased_importance_sampling_estimator</th>\n",
       "      <th>variance</th>\n",
       "      <th>std_error</th>\n",
       "    </tr>\n",
       "  </thead>\n",
       "  <tbody>\n",
       "    <tr>\n",
       "      <th>0</th>\n",
       "      <td>0.25</td>\n",
       "      <td>0.694828</td>\n",
       "      <td>0.735654</td>\n",
       "      <td>0.003652</td>\n",
       "      <td>0.060432</td>\n",
       "    </tr>\n",
       "    <tr>\n",
       "      <th>1</th>\n",
       "      <td>1.00</td>\n",
       "      <td>1.000577</td>\n",
       "      <td>1.000577</td>\n",
       "      <td>0.000191</td>\n",
       "      <td>0.013825</td>\n",
       "    </tr>\n",
       "    <tr>\n",
       "      <th>2</th>\n",
       "      <td>4.00</td>\n",
       "      <td>1.000607</td>\n",
       "      <td>1.011281</td>\n",
       "      <td>0.000048</td>\n",
       "      <td>0.006915</td>\n",
       "    </tr>\n",
       "    <tr>\n",
       "      <th>3</th>\n",
       "      <td>25.00</td>\n",
       "      <td>1.010328</td>\n",
       "      <td>1.002995</td>\n",
       "      <td>0.000181</td>\n",
       "      <td>0.013447</td>\n",
       "    </tr>\n",
       "  </tbody>\n",
       "</table>\n",
       "</div>"
      ],
      "text/plain": [
       "   sigma_squared  importance_sampling_estimator  \\\n",
       "0           0.25                       0.694828   \n",
       "1           1.00                       1.000577   \n",
       "2           4.00                       1.000607   \n",
       "3          25.00                       1.010328   \n",
       "\n",
       "   biased_importance_sampling_estimator  variance  std_error  \n",
       "0                              0.735654  0.003652   0.060432  \n",
       "1                              1.000577  0.000191   0.013825  \n",
       "2                              1.011281  0.000048   0.006915  \n",
       "3                              1.002995  0.000181   0.013447  "
      ]
     },
     "execution_count": 12,
     "metadata": {},
     "output_type": "execute_result"
    }
   ],
   "source": [
    "import pandas as pd\n",
    "\n",
    "df_results = pd.DataFrame(results)\n",
    "df_results = df_results[['sigma_squared', 'importance_sampling_estimator', 'biased_importance_sampling_estimator', 'variance', 'std_error']]\n",
    "df_results"
   ]
  },
  {
   "cell_type": "markdown",
   "metadata": {},
   "source": [
    "### 结果对比\n",
    "\n",
    "- **估计器值**：在不同的采样分布下，重要性采样估计器和有偏重要性采样估计器都接近真实值 $s = 1$。\n",
    "- **方差**：当采样分布 𝑞(𝑥) 的方差远离目标分布 𝑝(𝑥) 时，估计器的方差增加。\n",
    "- **标准误差**：同样地，标准误差随着 𝑞(𝑥) 的方差增大而增大。"
   ]
  },
  {
   "cell_type": "markdown",
   "metadata": {},
   "source": [
    "### 结论\n",
    "\n",
    "本文利用python实现了重要性采样和有偏重要性采样\n",
    "\n",
    "- **采样分布的影响**：选择与目标分布 𝑝(𝑥) 接近的采样分布 𝑞(𝑥) 可以降低估计器的方差。\n",
    "- **估计器性能**：两个估计器都提供了无偏（或渐进无偏）的期望值估计，但其效率取决于 𝑞(𝑥) 的选择。\n",
    "- **实践考虑**：在高维空间或当 𝑞(𝑥) 与 𝑝(𝑥) 匹配不佳时，方差可能会变得很大，导致估计器效率低下。\n",
    "\n",
    "重要性采样是一种强大的蒙特卡洛方法技术，在机器学习中有实际应用，包括加速神经网络的训练和估计分区函数。\n"
   ]
  },
  {
   "cell_type": "markdown",
   "metadata": {},
   "source": [
    "#### 参考文献：\n",
    "\n",
    "Goodfellow, I., Bengio, Y., & Courville, A. (2016).  *Deep Learning* . MIT Press.  \n",
    "Bishop, C. M. (2006).  *Pattern Recognition and Machine Learning* . Springer."
   ]
  }
 ],
 "metadata": {
  "kernelspec": {
   "display_name": "patch",
   "language": "python",
   "name": "python3"
  },
  "language_info": {
   "codemirror_mode": {
    "name": "ipython",
    "version": 3
   },
   "file_extension": ".py",
   "mimetype": "text/x-python",
   "name": "python",
   "nbconvert_exporter": "python",
   "pygments_lexer": "ipython3",
   "version": "3.9.19"
  }
 },
 "nbformat": 4,
 "nbformat_minor": 2
}
